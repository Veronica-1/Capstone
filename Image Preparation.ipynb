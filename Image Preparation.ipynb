{
 "cells": [
  {
   "cell_type": "markdown",
   "id": "minimal-apparatus",
   "metadata": {},
   "source": [
    "# Image Preparation "
   ]
  },
  {
   "cell_type": "code",
   "execution_count": 4,
   "id": "handled-anaheim",
   "metadata": {},
   "outputs": [],
   "source": [
    "#Load py file with image prep functions \n",
    "%run -i \"C:\\Users\\xu.meng\\Veronica\\prepare_images_functions.py\""
   ]
  },
  {
   "cell_type": "code",
   "execution_count": 2,
   "id": "peaceful-notice",
   "metadata": {},
   "outputs": [],
   "source": [
    "#Enter location where your original photos are saved, function will save crops in a subfolder it creates called 'Tiles'\n",
    "original_photo_location = r\".../images\"\n",
    "crop_images(original_photo_location)"
   ]
  },
  {
   "cell_type": "code",
   "execution_count": 3,
   "id": "processed-lebanon",
   "metadata": {},
   "outputs": [],
   "source": [
    "#Enter location where you want augmented images to be saved and number of augmentations you want \n",
    "file_path = r\".../images/Tiles\"\n",
    "save_path = r\".../Augmented_Images\"\n",
    "aug_range = 10 \n",
    "\n",
    "augment_images(file_path, save_path, aug_range)"
   ]
  }
 ],
 "metadata": {
  "kernelspec": {
   "display_name": "Python 3",
   "language": "python",
   "name": "python3"
  },
  "language_info": {
   "codemirror_mode": {
    "name": "ipython",
    "version": 3
   },
   "file_extension": ".py",
   "mimetype": "text/x-python",
   "name": "python",
   "nbconvert_exporter": "python",
   "pygments_lexer": "ipython3",
   "version": "3.6.12"
  }
 },
 "nbformat": 4,
 "nbformat_minor": 5
}
