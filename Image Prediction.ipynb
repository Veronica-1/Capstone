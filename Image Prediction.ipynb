{
 "cells": [
  {
   "cell_type": "markdown",
   "id": "prescription-metadata",
   "metadata": {},
   "source": [
    "<div class='alert alert-block alert-success'><font color=\"black\"><h1 align='center'>Prepare for New Prediction\n",
    "    </h1></font></div>"
   ]
  },
  {
   "cell_type": "markdown",
   "id": "combined-nylon",
   "metadata": {},
   "source": [
    "## Load Saved Model"
   ]
  },
  {
   "cell_type": "code",
   "execution_count": 17,
   "id": "incorporate-fitness",
   "metadata": {},
   "outputs": [],
   "source": [
    "from keras.models import load_model\n",
    "import matplotlib as plt\n",
    "\n",
    "#enter location of model\n",
    "vgg_model = load_model(r'...\\vgg_model')"
   ]
  },
  {
   "cell_type": "markdown",
   "id": "dietary-history",
   "metadata": {},
   "source": [
    "## Load Data Prep Functions"
   ]
  },
  {
   "cell_type": "code",
   "execution_count": 36,
   "id": "amended-harmony",
   "metadata": {},
   "outputs": [],
   "source": [
    "# Call the prediction load data function from the respective file\n",
    "%run -i \"...load_data.py\""
   ]
  },
  {
   "cell_type": "markdown",
   "id": "amended-petersburg",
   "metadata": {},
   "source": [
    "## Set Path to New Data"
   ]
  },
  {
   "cell_type": "code",
   "execution_count": 37,
   "id": "sealed-college",
   "metadata": {},
   "outputs": [],
   "source": [
    "# Image Folder for Sample images & External Data \n",
    "prediction_path_demo = r\"...Prediction Image\"\n",
    "external_demo = r\"...\\data_to_predict.csv\"\n",
    "\n",
    "# Load into variables\n",
    "image_array_demo, df_for_training_demo, merge_with_labels_demo = load_data_demo(prediction_path_demo, external_demo)"
   ]
  },
  {
   "cell_type": "markdown",
   "id": "discrete-disorder",
   "metadata": {},
   "source": [
    "## Get Historic Data to Plot Predictions Against"
   ]
  },
  {
   "cell_type": "code",
   "execution_count": 12,
   "id": "hearing-career",
   "metadata": {},
   "outputs": [],
   "source": [
    "historic_ext = pd.read_csv(r\"...\\external_data.csv\")\n",
    "historic_out = historic_manip(historic_ext)"
   ]
  },
  {
   "cell_type": "markdown",
   "id": "intense-dating",
   "metadata": {},
   "source": [
    "<div class='alert alert-block alert-success'><font color=\"black\"><h1 align='center'>Predict on New Data\n",
    "    </h1></font></div>"
   ]
  },
  {
   "cell_type": "code",
   "execution_count": 1,
   "id": "violent-posting",
   "metadata": {},
   "outputs": [],
   "source": [
    "prediction = vgg_model.predict([df_for_training_demo,image_array_demo])"
   ]
  },
  {
   "cell_type": "code",
   "execution_count": 2,
   "id": "affected-doctor",
   "metadata": {},
   "outputs": [],
   "source": [
    "show_predictions(image_array_demo,prediction)"
   ]
  },
  {
   "cell_type": "markdown",
   "id": "smoking-train",
   "metadata": {},
   "source": [
    "<div class='alert alert-block alert-success'><font color=\"black\"><h1 align='center'>Plot Prediction\n",
    "    </h1></font></div>"
   ]
  },
  {
   "cell_type": "markdown",
   "id": "clean-conference",
   "metadata": {},
   "source": [
    "## Merge Historic Data with New Prediction"
   ]
  },
  {
   "cell_type": "code",
   "execution_count": 40,
   "id": "bound-detail",
   "metadata": {},
   "outputs": [],
   "source": [
    "output_pred = array_to_df(prediction)\n",
    "output_pred['buckets'] = output_pred['predicted_bucket']\n",
    "del output_pred['predicted_bucket']\n",
    "prediction_merge = merge_with_labels_demo.merge(output_pred, left_index = True, right_index = True)\n",
    "ext = historic_out[[\"match_date\", \"buckets\"]]\n",
    "pred = prediction_merge[[\"match_date\", \"buckets\"]]\n",
    "output_display = ext.append(pd.DataFrame(data = pred), ignore_index=True)\n",
    "output_display['match_date'] = pd.to_datetime(output_display['match_date'], format = \"%Y - %m - %d\")\n",
    "output_display[\"buckets\"] = output_display[\"buckets\"].astype(str)"
   ]
  },
  {
   "cell_type": "markdown",
   "id": "chronic-worry",
   "metadata": {},
   "source": [
    "## Plot Graph with Red Point as New Prediction"
   ]
  },
  {
   "cell_type": "code",
   "execution_count": 3,
   "id": "lasting-pierce",
   "metadata": {},
   "outputs": [],
   "source": [
    "import matplotlib.pyplot as plt\n",
    "from matplotlib.pyplot import figure\n",
    "plt.figure(figsize=(20,10))\n",
    "plt.plot(output_display['match_date'], output_display['buckets'], marker = 'o')\n",
    "plt.gca().invert_yaxis()\n",
    "plt.xlabel('Date',fontsize=20)\n",
    "plt.ylabel('Index Value',fontsize=20)\n",
    "plt.title('Housing Market Wellness Index',fontsize=20)\n",
    "plt.xticks(fontsize=14)\n",
    "plt.yticks(fontsize=14)\n",
    "plt.plot(output_display['match_date'][-1:],  output_display['buckets'][-1:], 'ro')"
   ]
  },
  {
   "cell_type": "markdown",
   "id": "conceptual-apple",
   "metadata": {},
   "source": [
    "## Save New Predictions to .csv (Optional) "
   ]
  },
  {
   "cell_type": "code",
   "execution_count": 290,
   "id": "romantic-resource",
   "metadata": {},
   "outputs": [],
   "source": [
    "prediction_merge.to_csv(r'...\\Predicted_Index.csv', header = True, index = False)"
   ]
  }
 ],
 "metadata": {
  "kernelspec": {
   "display_name": "Python 3",
   "language": "python",
   "name": "python3"
  },
  "language_info": {
   "codemirror_mode": {
    "name": "ipython",
    "version": 3
   },
   "file_extension": ".py",
   "mimetype": "text/x-python",
   "name": "python",
   "nbconvert_exporter": "python",
   "pygments_lexer": "ipython3",
   "version": "3.6.12"
  }
 },
 "nbformat": 4,
 "nbformat_minor": 5
}
