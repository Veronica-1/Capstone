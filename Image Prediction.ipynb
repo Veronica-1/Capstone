{
 "cells": [
  {
   "cell_type": "markdown",
   "id": "acute-communication",
   "metadata": {},
   "source": [
    "## Load Saved Model"
   ]
  },
  {
   "cell_type": "code",
   "execution_count": 3,
   "id": "committed-choice",
   "metadata": {},
   "outputs": [],
   "source": [
    "#enter location of model\n",
    "vgg_model = load_model(r'...\\vgg_model')"
   ]
  },
  {
   "cell_type": "markdown",
   "id": "straight-librarian",
   "metadata": {},
   "source": [
    "### Call Load Data .py to load your new data"
   ]
  },
  {
   "cell_type": "code",
   "execution_count": 69,
   "id": "immediate-trash",
   "metadata": {},
   "outputs": [],
   "source": [
    "# Call the prediction load data function from the respective file\n",
    "%run -i \"...\\load_data_movAvg.py\""
   ]
  },
  {
   "cell_type": "code",
   "execution_count": 58,
   "id": "editorial-hostel",
   "metadata": {},
   "outputs": [],
   "source": [
    "# Image Folder for Sample images & External Data \n",
    "prediction_path_demo = r\"...\\Prediction\"\n",
    "\n",
    "external_demo = r\"...\\external_data.csv\"\n",
    "\n",
    "# Load into variables\n",
    "image_array_demo, merge_with_labels_demo, df_for_training_demo = load_data_MA(prediction_path_demo, external_demo)"
   ]
  },
  {
   "cell_type": "code",
   "execution_count": 4,
   "id": "meaningful-connection",
   "metadata": {},
   "outputs": [],
   "source": [
    "merge_with_labels_demo.head()"
   ]
  },
  {
   "cell_type": "markdown",
   "id": "under-laser",
   "metadata": {},
   "source": [
    "### Predict on New Data"
   ]
  },
  {
   "cell_type": "code",
   "execution_count": 60,
   "id": "planned-hampton",
   "metadata": {},
   "outputs": [],
   "source": [
    "prediction = vgg_model.predict([df_for_training_demo,image_array_demo])"
   ]
  },
  {
   "cell_type": "markdown",
   "id": "ancient-month",
   "metadata": {},
   "source": [
    "### Visualize Results"
   ]
  },
  {
   "cell_type": "code",
   "execution_count": 5,
   "id": "welsh-fashion",
   "metadata": {},
   "outputs": [],
   "source": [
    "show_predictions(image_array_demo,merge_with_labels_demo,prediction3)"
   ]
  },
  {
   "cell_type": "markdown",
   "id": "adapted-kuwait",
   "metadata": {},
   "source": [
    "### Export to .csv"
   ]
  },
  {
   "cell_type": "code",
   "execution_count": 74,
   "id": "posted-hudson",
   "metadata": {},
   "outputs": [],
   "source": [
    "output_pred = array_to_df(prediction)\n",
    "prediction_merge = merge_with_labels_demo.merge(output_pred, left_index = True, right_index = True)\n",
    "prediction_merge['buckets'] = pd.to_numeric(prediction_merge['buckets']) + 1"
   ]
  },
  {
   "cell_type": "code",
   "execution_count": 82,
   "id": "religious-festival",
   "metadata": {},
   "outputs": [],
   "source": [
    "prediction_merge.to_csv(r'...\\Predicted_Index.csv', header = True, index = False)"
   ]
  }
 ],
 "metadata": {
  "kernelspec": {
   "display_name": "Python 3",
   "language": "python",
   "name": "python3"
  },
  "language_info": {
   "codemirror_mode": {
    "name": "ipython",
    "version": 3
   },
   "file_extension": ".py",
   "mimetype": "text/x-python",
   "name": "python",
   "nbconvert_exporter": "python",
   "pygments_lexer": "ipython3",
   "version": "3.6.12"
  }
 },
 "nbformat": 4,
 "nbformat_minor": 5
}
